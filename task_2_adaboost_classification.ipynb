{
 "cells": [
  {
   "cell_type": "markdown",
   "metadata": {
    "id": "U_tcuiFmIToA"
   },
   "source": [
    "## Congressional Voting Classification\n",
    "AdaBoost is an ensemble learning method (also known as “meta-learning”) which was initially created to increase the efficiency of binary classifiers. AdaBoost uses an iterative approach to learn from the mistakes of weak classifiers, and turn them into strong ones.\n",
    "\n",
    "### Data Set\n",
    "The data can be downloaded from \"data/house_votes84.csv\" at the respective challenge's repo.\n",
    "\n",
    "This data set includes votes for each of the U.S. House of Representatives Congressmen on the 16 key votes identified by the CQA. The CQA lists nine different types of votes: voted for, paired for, and announced for (these three simplified to yea), voted against, paired against, and announced against (these three simplified to nay), voted present, voted present to avoid conflict of interest, and did not vote or otherwise make a position known (these three simplified to an unknown disposition).\n",
    "\n",
    "Original source: https://archive.ics.uci.edu/ml/datasets/Congressional+Voting+Records\n",
    "\n",
    "### Features:\n",
    "1. handicapped-infants: 2 (y,n)\n",
    "2. water-project-cost-sharing: 2 (y,n)\n",
    "3. adoption-of-the-budget-resolution: 2 (y,n)\n",
    "4. physician-fee-freeze: 2 (y,n)\n",
    "5. el-salvador-aid: 2 (y,n)\n",
    "6. religious-groups-in-schools: 2 (y,n)\n",
    "7. anti-satellite-test-ban: 2 (y,n)\n",
    "8. aid-to-nicaraguan-contras: 2 (y,n)\n",
    "9. mx-missile: 2 (y,n)\n",
    "10. immigration: 2 (y,n)\n",
    "11. synfuels-corporation-cutback: 2 (y,n)\n",
    "12. education-spending: 2 (y,n)\n",
    "13. superfund-right-to-sue: 2 (y,n)\n",
    "14. crime: 2 (y,n)\n",
    "15. duty-free-exports: 2 (y,n)\n",
    "16. export-administration-act-south-africa: 2 (y,n)\n",
    "\n",
    "### Target\n",
    "17. Class Name: 2 (democrat, republican)\n",
    "\n",
    "### Objective\n",
    "The main objective is to predict whether congressmen is Democrat or Republican based on voting patterns by using the decision tree with the adaboost.\n",
    "\n",
    "### Tasks:\n",
    "-\tObtained the dataset\n",
    "-\tApply pre-processing operations\n",
    "-\tTrain Adaboost model from scratch and test the model\n",
    "-\tTrain Adaboost model using sklearn\n",
    "-\tCompare the performance of Adaboost, Random Forest and Decision Trees"
   ]
  },
  {
   "cell_type": "markdown",
   "metadata": {
    "id": "1yGvcerZa0S8"
   },
   "source": [
    "## Part 1: Adaboost from Scratch"
   ]
  },
  {
   "cell_type": "code",
   "execution_count": null,
   "metadata": {
    "id": "Duh_Q74qIidS"
   },
   "outputs": [],
   "source": [
    "# Load the libraries\n"
   ]
  },
  {
   "cell_type": "code",
   "execution_count": null,
   "metadata": {
    "id": "SyioH2iYIjhk"
   },
   "outputs": [],
   "source": [
    "# Load the dataset\n"
   ]
  },
  {
   "cell_type": "code",
   "execution_count": null,
   "metadata": {
    "id": "vtfupr9JInhf"
   },
   "outputs": [],
   "source": [
    "# Preprocessing\n",
    "# Encoding categorical variables (if any)\n",
    "# Feature Scaling\n",
    "# Filling missing values (if any)\n",
    "\n"
   ]
  },
  {
   "cell_type": "code",
   "execution_count": null,
   "metadata": {
    "id": "13owZH7mIpZp"
   },
   "outputs": [],
   "source": [
    "# Divide the dataset to training and testing set\n",
    "\n"
   ]
  },
  {
   "cell_type": "code",
   "execution_count": null,
   "metadata": {
    "id": "-KEJ1BB8a5xQ"
   },
   "outputs": [],
   "source": [
    "# Implement Adaboost model from scratch\n",
    "# Adaboost consist of stumps which can be created using builtin decision trees in sklearn\n",
    "# Stump can be trained by keeping the max_depth as 1\n",
    "\n",
    "\n",
    "\n"
   ]
  },
  {
   "cell_type": "code",
   "execution_count": null,
   "metadata": {
    "id": "jOIhehoYbSsJ"
   },
   "outputs": [],
   "source": [
    "# Train the model and test the model\n",
    "\n"
   ]
  },
  {
   "cell_type": "code",
   "execution_count": null,
   "metadata": {
    "id": "XUBOrqrbbX-u"
   },
   "outputs": [],
   "source": [
    "# Evaluate the results using accuracy, precision, recall and f-measure\n",
    "\n"
   ]
  },
  {
   "cell_type": "markdown",
   "metadata": {
    "id": "9hZF7xcjbdAF"
   },
   "source": [
    "## Part 2: Adaboost using Sklearn"
   ]
  },
  {
   "cell_type": "code",
   "execution_count": null,
   "metadata": {
    "id": "1DSX6JMEbfss"
   },
   "outputs": [],
   "source": [
    "# Use the preprocessed dataset here\n",
    "\n"
   ]
  },
  {
   "cell_type": "code",
   "execution_count": null,
   "metadata": {
    "id": "2yqNwnVCbkxG"
   },
   "outputs": [],
   "source": [
    "# Train the Adaboost Model using builtin Sklearn Dataset\n",
    "\n"
   ]
  },
  {
   "cell_type": "code",
   "execution_count": null,
   "metadata": {
    "id": "eB_I4407bns6"
   },
   "outputs": [],
   "source": [
    "# Test the model with testing set and print the accuracy, precision, recall and f-measure\n",
    "\n"
   ]
  },
  {
   "cell_type": "code",
   "execution_count": null,
   "metadata": {
    "id": "aK086juobpRo"
   },
   "outputs": [],
   "source": [
    "# Play with parameters such as\n",
    "# number of decision trees\n",
    "# Criterion for splitting\n",
    "# Max depth\n",
    "# Minimum samples per split and leaf\n",
    "\n"
   ]
  },
  {
   "cell_type": "markdown",
   "metadata": {
    "id": "08GzOdPKbqPg"
   },
   "source": [
    "## Part 3: Compare the models"
   ]
  },
  {
   "cell_type": "code",
   "execution_count": null,
   "metadata": {
    "id": "Kr91M76xbtc0"
   },
   "outputs": [],
   "source": [
    "# Train Adaboost, Random Forest and Decision tree models from sklearn\n",
    "\n"
   ]
  },
  {
   "cell_type": "code",
   "execution_count": null,
   "metadata": {
    "id": "LPPI9vK_bzLz"
   },
   "outputs": [],
   "source": [
    "# Run the model on testing set\n",
    "\n"
   ]
  },
  {
   "cell_type": "code",
   "execution_count": null,
   "metadata": {
    "id": "mdSk17pkb25Q"
   },
   "outputs": [],
   "source": [
    "# Compare their accuracy, precision, recall and f-measure\n",
    "\n"
   ]
  }
 ],
 "metadata": {
  "colab": {
   "collapsed_sections": [],
   "name": "Task 2 - Adaboost Classification.ipynb",
   "provenance": []
  },
  "kernelspec": {
   "display_name": "Python 3",
   "language": "python",
   "name": "python3"
  },
  "language_info": {
   "codemirror_mode": {
    "name": "ipython",
    "version": 3
   },
   "file_extension": ".py",
   "mimetype": "text/x-python",
   "name": "python",
   "nbconvert_exporter": "python",
   "pygments_lexer": "ipython3",
   "version": "3.8.5"
  },
  "toc": {
   "base_numbering": 1,
   "nav_menu": {},
   "number_sections": true,
   "sideBar": true,
   "skip_h1_title": false,
   "title_cell": "Table of Contents",
   "title_sidebar": "Contents",
   "toc_cell": false,
   "toc_position": {},
   "toc_section_display": true,
   "toc_window_display": false
  }
 },
 "nbformat": 4,
 "nbformat_minor": 1
}
